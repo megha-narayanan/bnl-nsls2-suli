{
 "cells": [
  {
   "cell_type": "code",
   "execution_count": 5,
   "id": "e805f6fc-65a9-4876-bdfe-70069de85693",
   "metadata": {},
   "outputs": [],
   "source": [
    "from blop.utils import prepare_re_env\n",
    "\n",
    "%run -i C:\\\\Users\\\\megha\\\\src\\\\blop\\\\src\\\\blop\\\\utils\\\\prepare_re_env.py --db-type=temp\n",
    "\n",
    "bec.disable_plots()"
   ]
  },
  {
   "cell_type": "code",
   "execution_count": 3,
   "id": "9cc89f58-426a-4e94-8a51-d6c38deada7c",
   "metadata": {},
   "outputs": [],
   "source": [
    "from blop import DOF, Objective, Agent\n",
    "from blop.utils import functions\n",
    "from blop.dofs import BrownianMotion\n",
    "\n",
    "from blop.sim import Beamline\n",
    "\n",
    "beamline = Beamline(name=\"bl\")"
   ]
  },
  {
   "cell_type": "code",
   "execution_count": 4,
   "id": "48e45bc5-9616-4635-87ab-c806ade3872d",
   "metadata": {},
   "outputs": [
    {
     "data": {
      "text/plain": [
       "datetime.datetime"
      ]
     },
     "execution_count": 4,
     "metadata": {},
     "output_type": "execute_result"
    }
   ],
   "source": [
    "from datetime import datetime\n",
    "\n",
    "d = datetime(2020, 1, 1)\n",
    "type(d)"
   ]
  },
  {
   "cell_type": "code",
   "execution_count": 22,
   "id": "2dc2f703-60b5-437a-a168-d938df4198bf",
   "metadata": {},
   "outputs": [
    {
     "name": "stdout",
     "output_type": "stream",
     "text": [
      "Collecting pymoo\n",
      "Note: you may need to restart the kernel to use updated packages.  Downloading pymoo-0.6.1.1-cp311-cp311-win_amd64.whl.metadata (5.3 kB)\n",
      "\n",
      "Requirement already satisfied: numpy>=1.15 in c:\\users\\megha\\anaconda3\\envs\\nsls2\\lib\\site-packages (from pymoo) (1.26.4)\n",
      "Requirement already satisfied: scipy>=1.1 in c:\\users\\megha\\anaconda3\\envs\\nsls2\\lib\\site-packages (from pymoo) (1.13.1)\n",
      "Requirement already satisfied: matplotlib>=3 in c:\\users\\megha\\anaconda3\\envs\\nsls2\\lib\\site-packages (from pymoo) (3.9.0)\n",
      "Collecting autograd>=1.4 (from pymoo)\n",
      "  Downloading autograd-1.6.2-py3-none-any.whl.metadata (706 bytes)\n",
      "Collecting cma==3.2.2 (from pymoo)\n",
      "  Downloading cma-3.2.2-py2.py3-none-any.whl.metadata (8.0 kB)\n",
      "Collecting alive-progress (from pymoo)\n",
      "  Downloading alive_progress-3.1.5-py3-none-any.whl.metadata (68 kB)\n",
      "     ---------------------------------------- 0.0/68.4 kB ? eta -:--:--\n",
      "     ----------------- ---------------------- 30.7/68.4 kB 1.3 MB/s eta 0:00:01\n",
      "     -------------------------------------- 68.4/68.4 kB 923.0 kB/s eta 0:00:00\n",
      "Collecting dill (from pymoo)\n",
      "  Downloading dill-0.3.8-py3-none-any.whl.metadata (10 kB)\n",
      "Collecting Deprecated (from pymoo)\n",
      "  Downloading Deprecated-1.2.14-py2.py3-none-any.whl.metadata (5.4 kB)\n",
      "Collecting future>=0.15.2 (from autograd>=1.4->pymoo)\n",
      "  Downloading future-1.0.0-py3-none-any.whl.metadata (4.0 kB)\n",
      "Requirement already satisfied: contourpy>=1.0.1 in c:\\users\\megha\\anaconda3\\envs\\nsls2\\lib\\site-packages (from matplotlib>=3->pymoo) (1.2.1)\n",
      "Requirement already satisfied: cycler>=0.10 in c:\\users\\megha\\anaconda3\\envs\\nsls2\\lib\\site-packages (from matplotlib>=3->pymoo) (0.12.1)\n",
      "Requirement already satisfied: fonttools>=4.22.0 in c:\\users\\megha\\anaconda3\\envs\\nsls2\\lib\\site-packages (from matplotlib>=3->pymoo) (4.53.0)\n",
      "Requirement already satisfied: kiwisolver>=1.3.1 in c:\\users\\megha\\anaconda3\\envs\\nsls2\\lib\\site-packages (from matplotlib>=3->pymoo) (1.4.5)\n",
      "Requirement already satisfied: packaging>=20.0 in c:\\users\\megha\\anaconda3\\envs\\nsls2\\lib\\site-packages (from matplotlib>=3->pymoo) (24.0)\n",
      "Requirement already satisfied: pillow>=8 in c:\\users\\megha\\anaconda3\\envs\\nsls2\\lib\\site-packages (from matplotlib>=3->pymoo) (10.3.0)\n",
      "Requirement already satisfied: pyparsing>=2.3.1 in c:\\users\\megha\\anaconda3\\envs\\nsls2\\lib\\site-packages (from matplotlib>=3->pymoo) (3.1.2)\n",
      "Requirement already satisfied: python-dateutil>=2.7 in c:\\users\\megha\\anaconda3\\envs\\nsls2\\lib\\site-packages (from matplotlib>=3->pymoo) (2.9.0.post0)\n",
      "Collecting about-time==4.2.1 (from alive-progress->pymoo)\n",
      "  Downloading about_time-4.2.1-py3-none-any.whl.metadata (13 kB)\n",
      "Collecting grapheme==0.6.0 (from alive-progress->pymoo)\n",
      "  Downloading grapheme-0.6.0.tar.gz (207 kB)\n",
      "     ---------------------------------------- 0.0/207.3 kB ? eta -:--:--\n",
      "     -------------------------------------  204.8/207.3 kB 6.3 MB/s eta 0:00:01\n",
      "     -------------------------------------- 207.3/207.3 kB 4.3 MB/s eta 0:00:00\n",
      "  Preparing metadata (setup.py): started\n",
      "  Preparing metadata (setup.py): finished with status 'done'\n",
      "Collecting wrapt<2,>=1.10 (from Deprecated->pymoo)\n",
      "  Downloading wrapt-1.16.0-cp311-cp311-win_amd64.whl.metadata (6.8 kB)\n",
      "Requirement already satisfied: six>=1.5 in c:\\users\\megha\\anaconda3\\envs\\nsls2\\lib\\site-packages (from python-dateutil>=2.7->matplotlib>=3->pymoo) (1.16.0)\n",
      "Downloading pymoo-0.6.1.1-cp311-cp311-win_amd64.whl (896 kB)\n",
      "   ---------------------------------------- 0.0/896.2 kB ? eta -:--:--\n",
      "   ----------------------------------- --- 819.2/896.2 kB 17.2 MB/s eta 0:00:01\n",
      "   --------------------------------------- 896.2/896.2 kB 14.3 MB/s eta 0:00:00\n",
      "Downloading cma-3.2.2-py2.py3-none-any.whl (249 kB)\n",
      "   ---------------------------------------- 0.0/249.1 kB ? eta -:--:--\n",
      "   ---------------------------------------- 249.1/249.1 kB ? eta 0:00:00\n",
      "Downloading autograd-1.6.2-py3-none-any.whl (49 kB)\n",
      "   ---------------------------------------- 0.0/49.3 kB ? eta -:--:--\n",
      "   ---------------------------------------- 49.3/49.3 kB ? eta 0:00:00\n",
      "Downloading alive_progress-3.1.5-py3-none-any.whl (75 kB)\n",
      "   ---------------------------------------- 0.0/76.0 kB ? eta -:--:--\n",
      "   ---------------------------------------- 76.0/76.0 kB ? eta 0:00:00\n",
      "Downloading about_time-4.2.1-py3-none-any.whl (13 kB)\n",
      "Downloading Deprecated-1.2.14-py2.py3-none-any.whl (9.6 kB)\n",
      "Downloading dill-0.3.8-py3-none-any.whl (116 kB)\n",
      "   ---------------------------------------- 0.0/116.3 kB ? eta -:--:--\n",
      "   ---------------------------------------- 116.3/116.3 kB ? eta 0:00:00\n",
      "Downloading future-1.0.0-py3-none-any.whl (491 kB)\n",
      "   ---------------------------------------- 0.0/491.3 kB ? eta -:--:--\n",
      "   --------------------------------------- 491.3/491.3 kB 15.5 MB/s eta 0:00:00\n",
      "Downloading wrapt-1.16.0-cp311-cp311-win_amd64.whl (37 kB)\n",
      "Building wheels for collected packages: grapheme\n",
      "  Building wheel for grapheme (setup.py): started\n",
      "  Building wheel for grapheme (setup.py): finished with status 'done'\n",
      "  Created wheel for grapheme: filename=grapheme-0.6.0-py3-none-any.whl size=210116 sha256=b0a41317b08155e3c67a0fc0c7c9053722d529f20f6b99f27a0e00add2f9fa9c\n",
      "  Stored in directory: c:\\users\\megha\\appdata\\local\\pip\\cache\\wheels\\ee\\3b\\0b\\1b865800e916d671a24028d884698674138632a83fdfad4926\n",
      "Successfully built grapheme\n",
      "Installing collected packages: grapheme, wrapt, future, dill, cma, about-time, Deprecated, autograd, alive-progress, pymoo\n",
      "Successfully installed Deprecated-1.2.14 about-time-4.2.1 alive-progress-3.1.5 autograd-1.6.2 cma-3.2.2 dill-0.3.8 future-1.0.0 grapheme-0.6.0 pymoo-0.6.1.1 wrapt-1.16.0\n"
     ]
    }
   ],
   "source": [
    "pip install -U pymoo"
   ]
  },
  {
   "cell_type": "code",
   "execution_count": 7,
   "id": "364e17e0-21be-45af-90c2-8213f04ed669",
   "metadata": {},
   "outputs": [
    {
     "name": "stdout",
     "output_type": "stream",
     "text": [
      "running iteration 1 / 1\n",
      "\n",
      "\n",
      "Transient Scan ID: 2     Time: 2024-07-17 16:51:59\n",
      "Persistent Unique Scan ID: 'b6bb28e4-15a8-4eb5-91ed-6b0f3892d3db'\n",
      "New stream: 'primary'\n",
      "+-----------+------------+------------+\n",
      "|   seq_num |       time |         x1 |\n",
      "+-----------+------------+------------+\n",
      "|         1 | 16:51:59.6 |      0.068 |\n",
      "|         2 | 16:51:59.6 |      0.249 |\n",
      "|         3 | 16:51:59.6 |      0.324 |\n",
      "|         4 | 16:51:59.6 |      0.612 |\n",
      "|         5 | 16:51:59.6 |      0.724 |\n",
      "|         6 | 16:51:59.6 |      4.940 |\n",
      "|         7 | 16:51:59.7 |      4.750 |\n",
      "|         8 | 16:51:59.7 |      4.670 |\n",
      "|         9 | 16:51:59.7 |      4.392 |\n",
      "|        10 | 16:51:59.7 |      4.268 |\n",
      "|        11 | 16:51:59.7 |      4.165 |\n",
      "|        12 | 16:51:59.7 |      3.934 |\n",
      "|        13 | 16:51:59.7 |      3.880 |\n",
      "|        14 | 16:51:59.7 |      3.623 |\n",
      "|        15 | 16:51:59.7 |      3.568 |\n",
      "|        16 | 16:51:59.7 |      3.332 |\n",
      "|        17 | 16:51:59.7 |      3.229 |\n",
      "|        18 | 16:51:59.7 |      3.106 |\n",
      "|        19 | 16:51:59.7 |      2.828 |\n",
      "|        20 | 16:51:59.8 |      2.752 |\n",
      "|        21 | 16:51:59.8 |      2.562 |\n",
      "|        22 | 16:51:59.8 |      2.435 |\n",
      "|        23 | 16:51:59.8 |      2.254 |\n",
      "|        24 | 16:51:59.8 |      2.174 |\n",
      "|        25 | 16:51:59.8 |      1.885 |\n",
      "|        26 | 16:51:59.8 |      1.774 |\n",
      "|        27 | 16:51:59.8 |      1.663 |\n",
      "|        28 | 16:51:59.8 |      1.430 |\n",
      "|        29 | 16:51:59.8 |      1.386 |\n",
      "|        30 | 16:51:59.9 |      1.116 |\n",
      "|        31 | 16:51:59.9 |      1.073 |\n",
      "|        32 | 16:51:59.9 |      0.835 |\n",
      "|        33 | 16:51:59.9 |     -0.143 |\n",
      "|        34 | 16:51:59.9 |     -0.166 |\n",
      "|        35 | 16:51:59.9 |     -0.404 |\n",
      "|        36 | 16:51:59.9 |     -0.535 |\n",
      "|        37 | 16:51:59.9 |     -0.649 |\n",
      "|        38 | 16:51:59.9 |     -0.918 |\n",
      "|        39 | 16:51:59.9 |     -0.993 |\n",
      "|        40 | 16:52:00.0 |     -1.193 |\n",
      "|        41 | 16:52:00.0 |     -1.304 |\n",
      "|        42 | 16:52:00.0 |     -1.505 |\n",
      "|        43 | 16:52:00.0 |     -1.585 |\n",
      "|        44 | 16:52:00.0 |     -1.854 |\n",
      "|        45 | 16:52:00.0 |     -1.967 |\n",
      "|        46 | 16:52:00.0 |     -2.099 |\n",
      "|        47 | 16:52:00.0 |     -2.331 |\n",
      "|        48 | 16:52:00.0 |     -2.355 |\n",
      "|        49 | 16:52:00.1 |     -2.638 |\n",
      "+-----------+------------+------------+\n",
      "|   seq_num |       time |         x1 |\n",
      "+-----------+------------+------------+\n",
      "|        50 | 16:52:00.1 |     -2.673 |\n",
      "|        51 | 16:52:00.1 |     -2.909 |\n",
      "|        52 | 16:52:00.1 |     -3.032 |\n",
      "|        53 | 16:52:00.1 |     -3.153 |\n",
      "|        54 | 16:52:00.1 |     -3.411 |\n",
      "|        55 | 16:52:00.1 |     -3.488 |\n",
      "|        56 | 16:52:00.1 |     -3.697 |\n",
      "|        57 | 16:52:00.1 |     -3.801 |\n",
      "|        58 | 16:52:00.1 |     -4.010 |\n",
      "|        59 | 16:52:00.2 |     -4.091 |\n",
      "|        60 | 16:52:00.2 |     -4.349 |\n",
      "|        61 | 16:52:00.2 |     -4.471 |\n",
      "|        62 | 16:52:00.2 |     -4.593 |\n",
      "|        63 | 16:52:00.2 |     -4.824 |\n",
      "|        64 | 16:52:00.2 |     -4.859 |\n",
      "+-----------+------------+------------+\n",
      "generator list_scan ['b6bb28e4'] (scan num: 2)\n",
      "\n",
      "\n",
      "\n",
      "trained model 'y' in 219 ms\n"
     ]
    }
   ],
   "source": [
    "def digestion(df):\n",
    "\n",
    "    for index, entry in df.iterrows():\n",
    "\n",
    "        y = entry.x1 ** 2\n",
    "\n",
    "        if entry.x1 > 4.5: \n",
    "            y += 20\n",
    "\n",
    "        if (entry.x1 > -0.5)  & (entry.x1 < 0.5):\n",
    "            y -= 20\n",
    "        \n",
    "        \n",
    "        df.loc[index, \"y\"] = y\n",
    "\n",
    "    return df\n",
    "\n",
    "dofs = [DOF(name=\"x1\", search_domain=(-5.0, 5.0))]\n",
    "\n",
    "objectives = [Objective(name=\"y\", target=\"min\")]\n",
    "\n",
    "agent = Agent(\n",
    "    dofs=dofs,\n",
    "    objectives=objectives,\n",
    "    verbose=True,\n",
    "    digestion=digestion,\n",
    "    db=db,\n",
    "    tolerate_acquisition_errors=False,\n",
    "    enforce_all_objectives_valid=True,\n",
    "    model_inactive_objectives=True, #I thibk we have different versions of blop -- will add the edits tp mine so this works later\n",
    "    train_every=3,\n",
    ")\n",
    "\n",
    "uid, = RE(agent.learn(\"qr\", n=64))"
   ]
  },
  {
   "cell_type": "code",
   "execution_count": 8,
   "id": "96fc0fce-063f-4bde-995a-2978225be2e2",
   "metadata": {},
   "outputs": [],
   "source": [
    "from blop.bayesian.models import construct_single_task_model, train_model"
   ]
  },
  {
   "cell_type": "code",
   "execution_count": 9,
   "id": "7f2ff360-80e6-4013-a200-c4b504c5088e",
   "metadata": {},
   "outputs": [
    {
     "name": "stdout",
     "output_type": "stream",
     "text": [
      "trained models in 0.6 seconds\n",
      "trained models in 0.7 seconds\n",
      "trained models in 0.6 seconds\n",
      "trained models in 0.5 seconds\n",
      "trained models in 0.6 seconds\n",
      "trained models in 0.9 seconds\n",
      "trained models in 0.6 seconds\n",
      "trained models in 0.8 seconds\n",
      "trained models in 0.8 seconds\n",
      "trained models in 0.7 seconds\n",
      "trained models in 0.6 seconds\n",
      "trained models in 0.7 seconds\n",
      "trained models in 0.7 seconds\n",
      "trained models in 0.9 seconds\n",
      "trained models in 0.8 seconds\n",
      "trained models in 0.2 seconds\n"
     ]
    },
    {
     "data": {
      "image/png": "[encoded data removed]",
      "text/plain": [
       "<Figure size 640x480 with 1 Axes>"
      ]
     },
     "metadata": {},
     "output_type": "display_data"
    }
   ],
   "source": [
    "max_x_list = np.linspace(-1, 5, 16)\n",
    "\n",
    "for max_x in max_x_list:\n",
    "    \n",
    "    #agent.dofs.x1.trust_domain = None\n",
    "    agent.dofs.x1.trust_domain = (-5, max_x)\n",
    "    \n",
    "    agent._construct_all_models()\n",
    "    agent._train_all_models()\n",
    "\n",
    "    model = agent.objectives.y.model\n",
    "    \n",
    "    plt.scatter(max_x, model.covar_module.lengthscales.item() * (max_x + 5))"
   ]
  },
  {
   "cell_type": "code",
   "execution_count": 10,
   "id": "ac842b26-5eb8-4023-b8d1-c073f1c475c2",
   "metadata": {},
   "outputs": [
    {
     "data": {
      "text/plain": [
       "[]"
      ]
     },
     "execution_count": 10,
     "metadata": {},
     "output_type": "execute_result"
    }
   ],
   "source": [
    "agent.objectives.y.latent_groups"
   ]
  },
  {
   "cell_type": "code",
   "execution_count": 11,
   "id": "295bcfe4-b244-46b2-b0d2-efe0ecb53b6a",
   "metadata": {},
   "outputs": [
    {
     "data": {
      "text/plain": [
       "0.03914907430816105"
      ]
     },
     "execution_count": 11,
     "metadata": {},
     "output_type": "execute_result"
    }
   ],
   "source": [
    "model.covar_module.lengthscales.item()"
   ]
  },
  {
   "cell_type": "code",
   "execution_count": 12,
   "id": "93fc1991-a308-4fdc-b6e6-cef89b87307e",
   "metadata": {},
   "outputs": [],
   "source": [
    "model = agent.objectives.y.model\n",
    "\n",
    "test_x = agent.dofs.transform(agent.sample(n=256))\n",
    "\n",
    "test_p = model.posterior(test_x)\n",
    "\n",
    "X = agent.train_inputs()\n",
    "y = agent.train_targets()[\"y\"].unsqueeze(-1)\n",
    "\n",
    "mask = ~(X.isnan().any(axis=-1) | y.isnan().any(axis=-1))\n",
    "#mask &= (X < 0.95).all(axis=-1)\n",
    "\n",
    "X = X[mask]\n",
    "y = y[mask]\n",
    "\n",
    "p = model.posterior(X)\n",
    "\n",
    "z = (y - p.mean.detach()) / p.variance.sqrt()"
   ]
  },
  {
   "cell_type": "code",
   "execution_count": 13,
   "id": "f0bad236-6ba2-4f23-984b-ce84dc37ea26",
   "metadata": {},
   "outputs": [],
   "source": [
    "from blop.bayesian.models import construct_single_task_model, train_model"
   ]
  },
  {
   "cell_type": "code",
   "execution_count": 14,
   "id": "c7271703-9836-419e-b5bc-d6491168eb1f",
   "metadata": {},
   "outputs": [
    {
     "data": {
      "text/plain": [
       "<matplotlib.collections.PathCollection at 0x1cb72d66c10>"
      ]
     },
     "execution_count": 14,
     "metadata": {},
     "output_type": "execute_result"
    },
    {
     "data": {
      "image/png": "[encoded data removed]",
      "text/plain": [
       "<Figure size 640x480 with 1 Axes>"
      ]
     },
     "metadata": {},
     "output_type": "display_data"
    }
   ],
   "source": [
    "from gpytorch.mlls import ExactMarginalLogLikelihood\n",
    "\n",
    "mll = ExactMarginalLogLikelihood(model.likelihood, model)\n",
    "\n",
    "score = mll(model(X), y.unsqueeze(-1)).detach()\n",
    "\n",
    "plt.scatter(X, y, c=score)\n",
    "plt.scatter(test_x, test_p.mean.detach(), s=1)"
   ]
  },
  {
   "cell_type": "code",
   "execution_count": 15,
   "id": "03197d7d-8ffa-402e-94d7-9259994edbfd",
   "metadata": {},
   "outputs": [],
   "source": [
    "from pymoo.algorithms.soo.nonconvex.ga import GA\n",
    "from pymoo.operators.crossover.pntx import TwoPointCrossover\n",
    "from pymoo.operators.mutation.bitflip import BitflipMutation\n",
    "from pymoo.operators.sampling.rnd import BinaryRandomSampling\n",
    "from pymoo.optimize import minimize\n",
    "from pymoo.problems.single.knapsack import create_random_knapsack_problem\n",
    "\n",
    "import numpy as np\n",
    "from pymoo.core.problem import ElementwiseProblem\n",
    "\n",
    "class SubsetProblem(ElementwiseProblem):\n",
    "    def __init__(self,\n",
    "                 X,\n",
    "                 y,\n",
    "                 n_max\n",
    "                 ):\n",
    "        super().__init__(n_var=len(X), n_obj=1)\n",
    "        self.X = X\n",
    "        self.y = y\n",
    "        self.n_max = n_max\n",
    "\n",
    "    def _evaluate(self, x, out, *args, **kwargs):\n",
    "\n",
    "        _X = self.X[x]\n",
    "        _y = self.y[x]\n",
    "\n",
    "        model = construct_single_task_model(_X, _y, skew_dims=[(0,)])\n",
    "\n",
    "        train_model(model)\n",
    "\n",
    "        l = model.covar_module.lengthscales.sum().item() \n",
    "\n",
    "        out[\"F\"] = - l * (_X.max() - _X.min())\n",
    "\n",
    "\n",
    "X = agent.train_inputs()\n",
    "y = agent.train_targets()[\"y\"].unsqueeze(-1)\n",
    "\n",
    "n_max = 16\n",
    "problem = SubsetProblem(X, y, n_max)\n"
   ]
  },
  {
   "cell_type": "code",
   "execution_count": 18,
   "id": "1d6569e3-6418-4fa1-ba9d-a7a05c367579",
   "metadata": {},
   "outputs": [],
   "source": [
    "from pymoo.core.crossover import Crossover\n",
    "from pymoo.core.mutation import Mutation\n",
    "from pymoo.core.sampling import Sampling\n",
    "\n",
    "\n",
    "class MySampling(Sampling):\n",
    "\n",
    "    def _do(self, problem, n_samples, **kwargs):\n",
    "        X = np.full((n_samples, problem.n_var), False, dtype=bool)\n",
    "\n",
    "        for k in range(n_samples):\n",
    "            I = np.random.permutation(problem.n_var)[:problem.n_max]\n",
    "            X[k, I] = True\n",
    "\n",
    "        return X\n",
    "\n",
    "\n",
    "class BinaryCrossover(Crossover):\n",
    "    def __init__(self):\n",
    "        super().__init__(2, 1)\n",
    "\n",
    "    def _do(self, problem, X, **kwargs):\n",
    "        n_parents, n_matings, n_var = X.shape\n",
    "\n",
    "        _X = np.full((self.n_offsprings, n_matings, problem.n_var), False)\n",
    "\n",
    "        for k in range(n_matings):\n",
    "            p1, p2 = X[0, k], X[1, k]\n",
    "\n",
    "            both_are_true = np.logical_and(p1, p2)\n",
    "            _X[0, k, both_are_true] = True\n",
    "\n",
    "            n_remaining = problem.n_max - np.sum(both_are_true)\n",
    "\n",
    "            I = np.where(np.logical_xor(p1, p2))[0]\n",
    "\n",
    "            S = I[np.random.permutation(len(I))][:n_remaining]\n",
    "            _X[0, k, S] = True\n",
    "\n",
    "        return _X\n",
    "\n",
    "\n",
    "class MyMutation(Mutation):\n",
    "    def _do(self, problem, X, **kwargs):\n",
    "        for i in range(X.shape[0]):\n",
    "            X[i, :] = X[i, :]\n",
    "            is_false = np.where(np.logical_not(X[i, :]))[0]\n",
    "            is_true = np.where(X[i, :])[0]\n",
    "            X[i, np.random.choice(is_false)] = True\n",
    "            X[i, np.random.choice(is_true)] = False\n",
    "\n",
    "        return X"
   ]
  },
  {
   "cell_type": "code",
   "execution_count": null,
   "id": "78c9cdc0-b167-4384-9b06-495f1327429e",
   "metadata": {},
   "outputs": [],
   "source": []
  },
  {
   "cell_type": "code",
   "execution_count": 19,
   "id": "d4d05fb6-a894-442b-85af-b0b05a995652",
   "metadata": {},
   "outputs": [
    {
     "name": "stdout",
     "output_type": "stream",
     "text": [
      "=================================================\n",
      "n_gen  |  n_eval  |     f_avg     |     f_min    \n",
      "=================================================\n",
      "     1 |       10 | -2.220627E-01 | -5.565933E-01\n",
      "     2 |       20 | -4.003127E-01 | -5.565933E-01\n",
      "     3 |       30 | -5.597396E-01 | -5.891873E-01\n",
      "     4 |       40 | -5.839046E-01 | -5.996679E-01\n",
      "     5 |       50 | -5.901441E-01 | -6.011849E-01\n",
      "     6 |       60 | -5.982365E-01 | -6.120857E-01\n",
      "     7 |       70 | -6.038996E-01 | -6.132371E-01\n",
      "     8 |       80 | -6.048987E-01 | -6.132371E-01\n",
      "     9 |       90 | -6.096075E-01 | -6.178870E-01\n",
      "    10 |      100 | -6.128088E-01 | -6.180973E-01\n"
     ]
    },
    {
     "name": "stderr",
     "output_type": "stream",
     "text": [
      "C:\\Users\\megha\\Anaconda3\\envs\\nsls2\\Lib\\site-packages\\botorch\\optim\\fit.py:102: OptimizationWarning: `scipy_minimize` terminated with status OptimizationStatus.FAILURE, displaying original message from `scipy.optimize.minimize`: ABNORMAL_TERMINATION_IN_LNSRCH\n",
      "  warn(\n"
     ]
    },
    {
     "name": "stdout",
     "output_type": "stream",
     "text": [
      "    11 |      110 | -6.147436E-01 | -6.180973E-01\n",
      "    12 |      120 | -6.167556E-01 | -6.204566E-01\n"
     ]
    },
    {
     "name": "stderr",
     "output_type": "stream",
     "text": [
      "C:\\Users\\megha\\Anaconda3\\envs\\nsls2\\Lib\\site-packages\\botorch\\optim\\fit.py:102: OptimizationWarning: `scipy_minimize` terminated with status OptimizationStatus.FAILURE, displaying original message from `scipy.optimize.minimize`: ABNORMAL_TERMINATION_IN_LNSRCH\n",
      "  warn(\n"
     ]
    },
    {
     "name": "stdout",
     "output_type": "stream",
     "text": [
      "    13 |      130 | -6.184620E-01 | -6.229233E-01\n",
      "    14 |      140 | -6.184620E-01 | -6.229233E-01\n",
      "    15 |      150 | -6.187646E-01 | -6.229233E-01\n",
      "    16 |      160 | -6.199939E-01 | -6.276530E-01\n",
      "    17 |      170 | -6.222060E-01 | -6.307487E-01\n",
      "    18 |      180 | -6.228672E-01 | -6.307487E-01\n",
      "    19 |      190 | -6.230034E-01 | -6.307487E-01\n",
      "    20 |      200 | -6.230034E-01 | -6.307487E-01\n",
      "Function value: -0.630748709656894\n",
      "Subset: [ 4  8  9 14 20 24 27 30 35 38 41 45 49 56 61 62]\n"
     ]
    }
   ],
   "source": [
    "from pymoo.algorithms.soo.nonconvex.ga import GA\n",
    "from pymoo.optimize import minimize\n",
    "\n",
    "algorithm = GA(\n",
    "    pop_size=10,\n",
    "    sampling=MySampling(),\n",
    "    crossover=BinaryCrossover(),\n",
    "    mutation=MyMutation(),\n",
    "    eliminate_duplicates=True)\n",
    "\n",
    "res = minimize(problem,\n",
    "               algorithm,\n",
    "               ('n_gen', 20),\n",
    "               seed=1,\n",
    "               verbose=True)\n",
    "\n",
    "print(\"Function value: %s\" % res.F[0])\n",
    "print(\"Subset:\", np.where(res.X)[0])\n"
   ]
  },
  {
   "cell_type": "code",
   "execution_count": null,
   "id": "9cf18a3d-b5f0-4042-88f3-cacb5115b8b5",
   "metadata": {},
   "outputs": [],
   "source": [
    "plt.scatter(X, y, c=res.X)"
   ]
  },
  {
   "cell_type": "code",
   "execution_count": null,
   "id": "fe6fc7e9-947d-4465-a7cc-2a398e015f1b",
   "metadata": {},
   "outputs": [],
   "source": []
  }
 ],
 "metadata": {
  "kernelspec": {
   "display_name": "Python 3 (ipykernel)",
   "language": "python",
   "name": "python3"
  },
  "language_info": {
   "codemirror_mode": {
    "name": "ipython",
    "version": 3
   },
   "file_extension": ".py",
   "mimetype": "text/x-python",
   "name": "python",
   "nbconvert_exporter": "python",
   "pygments_lexer": "ipython3",
   "version": "3.11.9"
  }
 },
 "nbformat": 4,
 "nbformat_minor": 5
}
