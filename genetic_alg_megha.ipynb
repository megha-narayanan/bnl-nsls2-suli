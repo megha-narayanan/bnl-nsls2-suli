{
 "cells": [
  {
   "cell_type": "code",
   "execution_count": 3,
   "id": "e805f6fc-65a9-4876-bdfe-70069de85693",
   "metadata": {},
   "outputs": [],
   "source": [
    "from blop.utils import prepare_re_env\n",
    "\n",
    "%run -i C:\\\\Users\\\\megha\\\\src\\\\blop\\\\src\\\\blop\\\\utils\\\\prepare_re_env.py --db-type=temp\n",
    "\n",
    "bec.disable_plots()"
   ]
  },
  {
   "cell_type": "code",
   "execution_count": 4,
   "id": "9cc89f58-426a-4e94-8a51-d6c38deada7c",
   "metadata": {},
   "outputs": [],
   "source": [
    "from blop import DOF, Objective, Agent\n",
    "from blop.utils import functions\n",
    "from blop.dofs import BrownianMotion\n",
    "import torch\n",
    "from blop.sim import Beamline\n",
    "\n",
    "beamline = Beamline(name=\"bl\")"
   ]
  },
  {
   "cell_type": "code",
   "execution_count": 5,
   "id": "48e45bc5-9616-4635-87ab-c806ade3872d",
   "metadata": {},
   "outputs": [
    {
     "data": {
      "text/plain": [
       "datetime.datetime"
      ]
     },
     "execution_count": 5,
     "metadata": {},
     "output_type": "execute_result"
    }
   ],
   "source": [
    "from datetime import datetime\n",
    "\n",
    "d = datetime(2020, 1, 1)\n",
    "type(d)"
   ]
  },
  {
   "cell_type": "code",
   "execution_count": 6,
   "id": "364e17e0-21be-45af-90c2-8213f04ed669",
   "metadata": {},
   "outputs": [
    {
     "name": "stdout",
     "output_type": "stream",
     "text": [
      "running iteration 1 / 1\n",
      "\n",
      "\n",
      "Transient Scan ID: 1     Time: 2024-07-19 12:49:26\n",
      "Persistent Unique Scan ID: '0d07d5ab-c508-4ff9-9761-3e3c5def04d7'\n",
      "New stream: 'primary'\n",
      "+-----------+------------+------------+\n",
      "|   seq_num |       time |         x1 |\n",
      "+-----------+------------+------------+\n",
      "|         1 | 12:49:26.5 |      0.095 |\n",
      "|         2 | 12:49:26.5 |      0.233 |\n",
      "|         3 | 12:49:26.5 |      0.458 |\n",
      "|         4 | 12:49:26.5 |      0.474 |\n",
      "|         5 | 12:49:26.5 |      0.674 |\n",
      "|         6 | 12:49:26.6 |      0.892 |\n",
      "|         7 | 12:49:26.6 |      0.961 |\n",
      "|         8 | 12:49:26.6 |      1.213 |\n",
      "|         9 | 12:49:26.6 |      1.326 |\n",
      "|        10 | 12:49:26.6 |      1.501 |\n",
      "|        11 | 12:49:26.6 |      1.568 |\n",
      "|        12 | 12:49:26.6 |      1.865 |\n",
      "|        13 | 12:49:26.6 |      1.987 |\n",
      "|        14 | 12:49:26.6 |      2.081 |\n",
      "|        15 | 12:49:26.7 |      2.307 |\n",
      "|        16 | 12:49:26.7 |      2.366 |\n",
      "|        17 | 12:49:26.7 |      2.642 |\n",
      "|        18 | 12:49:26.7 |      2.665 |\n",
      "|        19 | 12:49:26.7 |      2.909 |\n",
      "|        20 | 12:49:26.7 |      3.044 |\n",
      "|        21 | 12:49:26.7 |      4.049 |\n",
      "|        22 | 12:49:26.7 |      4.137 |\n",
      "|        23 | 12:49:26.7 |      4.314 |\n",
      "|        24 | 12:49:26.7 |      4.495 |\n",
      "|        25 | 12:49:26.7 |      4.553 |\n",
      "|        26 | 12:49:26.8 |      4.796 |\n",
      "|        27 | 12:49:26.8 |      4.897 |\n",
      "|        28 | 12:49:26.8 |      3.759 |\n",
      "|        29 | 12:49:26.8 |      3.701 |\n",
      "|        30 | 12:49:26.8 |      3.490 |\n",
      "|        31 | 12:49:26.8 |      3.402 |\n",
      "|        32 | 12:49:26.8 |      3.147 |\n",
      "|        33 | 12:49:26.8 |     -0.125 |\n",
      "|        34 | 12:49:26.8 |     -0.182 |\n",
      "|        35 | 12:49:26.8 |     -0.425 |\n",
      "|        36 | 12:49:26.8 |     -0.527 |\n",
      "|        37 | 12:49:26.8 |     -0.629 |\n",
      "|        38 | 12:49:26.9 |     -0.919 |\n",
      "|        39 | 12:49:26.9 |     -1.007 |\n",
      "|        40 | 12:49:26.9 |     -1.185 |\n",
      "|        41 | 12:49:26.9 |     -1.277 |\n",
      "|        42 | 12:49:26.9 |     -1.532 |\n",
      "|        43 | 12:49:26.9 |     -1.620 |\n",
      "|        44 | 12:49:26.9 |     -1.831 |\n",
      "|        45 | 12:49:26.9 |     -2.012 |\n",
      "|        46 | 12:49:26.9 |     -2.035 |\n",
      "|        47 | 12:49:27.0 |     -2.279 |\n",
      "|        48 | 12:49:27.0 |     -2.414 |\n",
      "|        49 | 12:49:27.0 |     -2.617 |\n",
      "+-----------+------------+------------+\n",
      "|   seq_num |       time |         x1 |\n",
      "+-----------+------------+------------+\n",
      "|        50 | 12:49:27.0 |     -2.711 |\n",
      "|        51 | 12:49:27.0 |     -2.936 |\n",
      "|        52 | 12:49:27.0 |     -2.996 |\n",
      "|        53 | 12:49:27.0 |     -3.196 |\n",
      "|        54 | 12:49:27.0 |     -3.371 |\n",
      "|        55 | 12:49:27.0 |     -3.438 |\n",
      "|        56 | 12:49:27.0 |     -3.735 |\n",
      "|        57 | 12:49:27.1 |     -3.804 |\n",
      "|        58 | 12:49:27.1 |     -4.022 |\n",
      "|        59 | 12:49:27.1 |     -4.090 |\n",
      "|        60 | 12:49:27.1 |     -4.343 |\n",
      "|        61 | 12:49:27.1 |     -4.465 |\n",
      "|        62 | 12:49:27.1 |     -4.603 |\n",
      "|        63 | 12:49:27.1 |     -4.828 |\n",
      "|        64 | 12:49:27.1 |     -4.844 |\n",
      "+-----------+------------+------------+\n",
      "generator list_scan ['0d07d5ab'] (scan num: 1)\n",
      "\n",
      "\n",
      "\n"
     ]
    },
    {
     "name": "stderr",
     "output_type": "stream",
     "text": [
      "C:\\Users\\megha\\AppData\\Local\\Temp\\ipykernel_19144\\3330699378.py:17: FutureWarning: Setting an item of incompatible dtype is deprecated and will raise an error in a future version of pandas. Value '0.45432777840710514' has dtype incompatible with float32, please explicitly cast to a compatible dtype first.\n",
      "  df.loc[index, \"y\"] = y\n"
     ]
    },
    {
     "name": "stdout",
     "output_type": "stream",
     "text": [
      "trained model 'y' in 187 ms\n"
     ]
    }
   ],
   "source": [
    "def digestion(df):\n",
    "\n",
    "    for index, entry in df.iterrows():\n",
    "\n",
    "        y = entry.x1 ** 2\n",
    "\n",
    "        if entry.x1 > 4.5: \n",
    "            y += torch.rand(1)*25\n",
    "            y=y.numpy()\n",
    "\n",
    "        if (entry.x1 > -0.5)  & (entry.x1 < 0.5):\n",
    "            #y -= 20\n",
    "            y -= torch.rand(1)*25\n",
    "            y=y.numpy()\n",
    "        \n",
    "        \n",
    "        df.loc[index, \"y\"] = y\n",
    "\n",
    "    return df\n",
    "\n",
    "dofs = [DOF(name=\"x1\", search_domain=(-5.0, 5.0))]\n",
    "\n",
    "objectives = [Objective(name=\"y\", target=\"min\")]\n",
    "\n",
    "agent = Agent(\n",
    "    dofs=dofs,\n",
    "    objectives=objectives,\n",
    "    verbose=True,\n",
    "    digestion=digestion,\n",
    "    db=db,\n",
    "    tolerate_acquisition_errors=False,\n",
    "    enforce_all_objectives_valid=True,\n",
    "    model_inactive_objectives=True, #I thibk we have different versions of blop -- will add the edits tp mine so this works later\n",
    "    train_every=3,\n",
    ")\n",
    "\n",
    "uid, = RE(agent.learn(\"qr\", n=64))"
   ]
  },
  {
   "cell_type": "code",
   "execution_count": 7,
   "id": "96fc0fce-063f-4bde-995a-2978225be2e2",
   "metadata": {},
   "outputs": [],
   "source": [
    "from blop.bayesian.models import construct_single_task_model, train_model"
   ]
  },
  {
   "cell_type": "code",
   "execution_count": 8,
   "id": "7f2ff360-80e6-4013-a200-c4b504c5088e",
   "metadata": {},
   "outputs": [
    {
     "name": "stdout",
     "output_type": "stream",
     "text": [
      "trained models in 0.5 seconds\n",
      "trained models in 0.5 seconds\n",
      "trained models in 0.5 seconds\n",
      "trained models in 0.7 seconds\n",
      "trained models in 0.6 seconds\n",
      "trained models in 0.5 seconds\n",
      "trained models in 0.6 seconds\n",
      "trained models in 0.7 seconds\n",
      "trained models in 0.4 seconds\n",
      "trained models in 0.5 seconds\n",
      "trained models in 0.5 seconds\n",
      "trained models in 0.5 seconds\n",
      "trained models in 0.6 seconds\n",
      "trained models in 0.6 seconds\n",
      "trained models in 0.7 seconds\n",
      "trained models in 0.2 seconds\n"
     ]
    },
    {
     "data": {
      "image/png": "[encoded data removed]",
      "text/plain": [
       "<Figure size 640x480 with 1 Axes>"
      ]
     },
     "metadata": {},
     "output_type": "display_data"
    }
   ],
   "source": [
    "max_x_list = np.linspace(-1, 5, 16)\n",
    "\n",
    "for max_x in max_x_list:\n",
    "    \n",
    "    #agent.dofs.x1.trust_domain = None\n",
    "    agent.dofs.x1.trust_domain = (-5, max_x)\n",
    "    \n",
    "    agent._construct_all_models()\n",
    "    agent._train_all_models()\n",
    "\n",
    "    model = agent.objectives.y.model\n",
    "    \n",
    "    plt.scatter(max_x, model.covar_module.lengthscales.item() * (max_x + 5))"
   ]
  },
  {
   "cell_type": "code",
   "execution_count": 9,
   "id": "ac842b26-5eb8-4023-b8d1-c073f1c475c2",
   "metadata": {},
   "outputs": [
    {
     "data": {
      "text/plain": [
       "[]"
      ]
     },
     "execution_count": 9,
     "metadata": {},
     "output_type": "execute_result"
    }
   ],
   "source": [
    "agent.objectives.y.latent_groups"
   ]
  },
  {
   "cell_type": "code",
   "execution_count": 10,
   "id": "295bcfe4-b244-46b2-b0d2-efe0ecb53b6a",
   "metadata": {},
   "outputs": [
    {
     "data": {
      "text/plain": [
       "0.07031288437818625"
      ]
     },
     "execution_count": 10,
     "metadata": {},
     "output_type": "execute_result"
    }
   ],
   "source": [
    "model.covar_module.lengthscales.item()"
   ]
  },
  {
   "cell_type": "code",
   "execution_count": 11,
   "id": "93fc1991-a308-4fdc-b6e6-cef89b87307e",
   "metadata": {},
   "outputs": [],
   "source": [
    "model = agent.objectives.y.model\n",
    "\n",
    "test_x = agent.dofs.transform(agent.sample(n=256))\n",
    "\n",
    "test_p = model.posterior(test_x)\n",
    "\n",
    "X = agent.train_inputs()\n",
    "y = agent.train_targets()[\"y\"].unsqueeze(-1)\n",
    "\n",
    "mask = ~(X.isnan().any(axis=-1) | y.isnan().any(axis=-1))\n",
    "#mask &= (X < 0.95).all(axis=-1)\n",
    "\n",
    "X = X[mask]\n",
    "y = y[mask]\n",
    "\n",
    "p = model.posterior(X)\n",
    "\n",
    "z = (y - p.mean.detach()) / p.variance.sqrt()"
   ]
  },
  {
   "cell_type": "code",
   "execution_count": 12,
   "id": "f0bad236-6ba2-4f23-984b-ce84dc37ea26",
   "metadata": {},
   "outputs": [],
   "source": [
    "from blop.bayesian.models import construct_single_task_model, train_model"
   ]
  },
  {
   "cell_type": "code",
   "execution_count": 13,
   "id": "c7271703-9836-419e-b5bc-d6491168eb1f",
   "metadata": {},
   "outputs": [
    {
     "data": {
      "text/plain": [
       "<matplotlib.collections.PathCollection at 0x24dffbd9f50>"
      ]
     },
     "execution_count": 13,
     "metadata": {},
     "output_type": "execute_result"
    },
    {
     "data": {
      "image/png": "[encoded data removed]",
      "text/plain": [
       "<Figure size 640x480 with 1 Axes>"
      ]
     },
     "metadata": {},
     "output_type": "display_data"
    }
   ],
   "source": [
    "from gpytorch.mlls import ExactMarginalLogLikelihood\n",
    "\n",
    "mll = ExactMarginalLogLikelihood(model.likelihood, model)\n",
    "\n",
    "score = mll(model(X), y.unsqueeze(-1)).detach()\n",
    "\n",
    "plt.scatter(X, y, c=score)\n",
    "plt.scatter(test_x, test_p.mean.detach(), s=1)"
   ]
  },
  {
   "cell_type": "code",
   "execution_count": 14,
   "id": "03197d7d-8ffa-402e-94d7-9259994edbfd",
   "metadata": {},
   "outputs": [],
   "source": [
    "from pymoo.algorithms.soo.nonconvex.ga import GA\n",
    "from pymoo.operators.crossover.pntx import TwoPointCrossover\n",
    "from pymoo.operators.mutation.bitflip import BitflipMutation\n",
    "from pymoo.operators.sampling.rnd import BinaryRandomSampling\n",
    "from pymoo.optimize import minimize\n",
    "from pymoo.problems.single.knapsack import create_random_knapsack_problem\n",
    "\n",
    "import numpy as np\n",
    "from pymoo.core.problem import ElementwiseProblem\n",
    "\n",
    "class SubsetProblem(ElementwiseProblem):\n",
    "    def __init__(self,\n",
    "                 X,\n",
    "                 y,\n",
    "                 n_max\n",
    "                 ):\n",
    "        super().__init__(n_var=len(X), n_obj=1)\n",
    "        self.X = X\n",
    "        self.y = y\n",
    "        self.n_max = n_max\n",
    "\n",
    "    def _evaluate(self, x, out, *args, **kwargs):\n",
    "\n",
    "        _X = self.X[~x]\n",
    "        _y = self.y[~x]\n",
    "\n",
    "        model = construct_single_task_model(_X, _y, skew_dims=[(0,)])\n",
    "\n",
    "        train_model(model)\n",
    "\n",
    "        l = model.covar_module.lengthscales.sum().item() \n",
    "\n",
    "        out[\"F\"] = - l * (_X.max() - _X.min())\n",
    "\n",
    "\n",
    "X = agent.train_inputs()\n",
    "y = agent.train_targets()[\"y\"].unsqueeze(-1)\n",
    "\n",
    "n_max = 12\n",
    "problem = SubsetProblem(X, y, n_max)\n"
   ]
  },
  {
   "cell_type": "code",
   "execution_count": 15,
   "id": "1d6569e3-6418-4fa1-ba9d-a7a05c367579",
   "metadata": {},
   "outputs": [],
   "source": [
    "from pymoo.core.crossover import Crossover\n",
    "from pymoo.core.mutation import Mutation\n",
    "from pymoo.core.sampling import Sampling\n",
    "\n",
    "\n",
    "class MySampling(Sampling):\n",
    "\n",
    "    def _do(self, problem, n_samples, **kwargs):\n",
    "        X = np.full((n_samples, problem.n_var), False, dtype=bool)\n",
    "\n",
    "        for k in range(n_samples):\n",
    "            I = np.random.permutation(problem.n_var)[:problem.n_max]\n",
    "            X[k, I] = True\n",
    "\n",
    "        return X\n",
    "\n",
    "\n",
    "class BinaryCrossover(Crossover):\n",
    "    def __init__(self):\n",
    "        super().__init__(2, 1)\n",
    "\n",
    "    def _do(self, problem, X, **kwargs):\n",
    "        n_parents, n_matings, n_var = X.shape\n",
    "\n",
    "        _X = np.full((self.n_offsprings, n_matings, problem.n_var), False)\n",
    "\n",
    "        for k in range(n_matings):\n",
    "            p1, p2 = X[0, k], X[1, k]\n",
    "\n",
    "            both_are_true = np.logical_and(p1, p2)\n",
    "            _X[0, k, both_are_true] = True\n",
    "\n",
    "            n_remaining = problem.n_max - np.sum(both_are_true)\n",
    "\n",
    "            I = np.where(np.logical_xor(p1, p2))[0]\n",
    "\n",
    "            S = I[np.random.permutation(len(I))][:n_remaining]\n",
    "            _X[0, k, S] = True\n",
    "\n",
    "        return _X\n",
    "\n",
    "\n",
    "class MyMutation(Mutation):\n",
    "    def _do(self, problem, X, **kwargs):\n",
    "        for i in range(X.shape[0]):\n",
    "            X[i, :] = X[i, :]\n",
    "            is_false = np.where(np.logical_not(X[i, :]))[0]\n",
    "            is_true = np.where(X[i, :])[0]\n",
    "            X[i, np.random.choice(is_false)] = True\n",
    "            X[i, np.random.choice(is_true)] = False\n",
    "\n",
    "        return X"
   ]
  },
  {
   "cell_type": "code",
   "execution_count": null,
   "id": "78c9cdc0-b167-4384-9b06-495f1327429e",
   "metadata": {},
   "outputs": [],
   "source": []
  },
  {
   "cell_type": "code",
   "execution_count": 16,
   "id": "d4d05fb6-a894-442b-85af-b0b05a995652",
   "metadata": {},
   "outputs": [
    {
     "name": "stderr",
     "output_type": "stream",
     "text": [
      "C:\\Users\\megha\\Anaconda3\\envs\\nsls2\\Lib\\site-packages\\botorch\\optim\\fit.py:102: OptimizationWarning: `scipy_minimize` terminated with status OptimizationStatus.FAILURE, displaying original message from `scipy.optimize.minimize`: ABNORMAL_TERMINATION_IN_LNSRCH\n",
      "  warn(\n"
     ]
    },
    {
     "name": "stdout",
     "output_type": "stream",
     "text": [
      "=================================================\n",
      "n_gen  |  n_eval  |     f_avg     |     f_min    \n",
      "=================================================\n",
      "     1 |       25 | -7.072401E-02 | -8.822937E-02\n",
      "     2 |       50 | -7.947834E-02 | -8.889251E-02\n",
      "     3 |       75 | -8.363204E-02 | -9.191905E-02\n",
      "     4 |      100 | -8.820978E-02 | -1.025797E-01\n",
      "     5 |      125 | -9.106939E-02 | -1.025797E-01\n",
      "     6 |      150 | -9.276845E-02 | -1.053408E-01\n",
      "     7 |      175 | -9.532554E-02 | -1.121459E-01\n",
      "     8 |      200 | -9.887499E-02 | -1.121459E-01\n",
      "     9 |      225 | -1.031735E-01 | -1.137748E-01\n",
      "    10 |      250 | -1.084989E-01 | -1.145085E-01\n",
      "    11 |      275 | -1.118412E-01 | -1.188013E-01\n",
      "    12 |      300 | -1.147209E-01 | -1.283605E-01\n",
      "    13 |      325 | -1.173378E-01 | -1.305494E-01\n",
      "    14 |      350 | -1.193743E-01 | -1.305494E-01\n",
      "    15 |      375 | -1.228807E-01 | -1.397518E-01\n",
      "    16 |      400 | -1.287786E-01 | -1.453554E-01\n",
      "    17 |      425 | -1.357448E-01 | -1.509582E-01\n",
      "    18 |      450 | -1.410140E-01 | -1.770088E-01\n",
      "    19 |      475 | -1.469084E-01 | -1.770088E-01\n",
      "    20 |      500 | -1.502139E-01 | -1.770088E-01\n",
      "Function value: -0.17700882346167068\n",
      "Subset: [ 0  1  2  3 21 22 28 32 33 40 47 52]\n"
     ]
    }
   ],
   "source": [
    "from pymoo.algorithms.soo.nonconvex.ga import GA\n",
    "from pymoo.optimize import minimize\n",
    "\n",
    "algorithm = GA(\n",
    "    pop_size=25,\n",
    "    sampling=MySampling(),\n",
    "    crossover=BinaryCrossover(),\n",
    "    mutation=MyMutation(),\n",
    "    eliminate_duplicates=True)\n",
    "\n",
    "res = minimize(problem,\n",
    "               algorithm,\n",
    "               ('n_gen', 20),\n",
    "               seed=1,\n",
    "               verbose=True)\n",
    "\n",
    "print(\"Function value: %s\" % res.F[0])\n",
    "print(\"Subset:\", np.where(res.X)[0])\n"
   ]
  },
  {
   "cell_type": "code",
   "execution_count": 17,
   "id": "9cf18a3d-b5f0-4042-88f3-cacb5115b8b5",
   "metadata": {},
   "outputs": [
    {
     "data": {
      "text/plain": [
       "<matplotlib.collections.PathCollection at 0x24df934f510>"
      ]
     },
     "execution_count": 17,
     "metadata": {},
     "output_type": "execute_result"
    },
    {
     "data": {
      "image/png": "[encoded data removed]",
      "text/plain": [
       "<Figure size 640x480 with 1 Axes>"
      ]
     },
     "metadata": {},
     "output_type": "display_data"
    }
   ],
   "source": [
    "plt.scatter(X, y, c=res.X)"
   ]
  },
  {
   "cell_type": "code",
   "execution_count": 20,
   "id": "56dde00d-3d3b-4532-889d-fab8c933a432",
   "metadata": {},
   "outputs": [
    {
     "data": {
      "text/plain": [
       "torch.Size([64, 1])"
      ]
     },
     "execution_count": 20,
     "metadata": {},
     "output_type": "execute_result"
    }
   ],
   "source": [
    "y.shape"
   ]
  },
  {
   "cell_type": "code",
   "execution_count": null,
   "id": "dd9bdb05-ffec-4954-a5b6-e9095a89c4d9",
   "metadata": {},
   "outputs": [],
   "source": []
  }
 ],
 "metadata": {
  "kernelspec": {
   "display_name": "Python 3 (ipykernel)",
   "language": "python",
   "name": "python3"
  },
  "language_info": {
   "codemirror_mode": {
    "name": "ipython",
    "version": 3
   },
   "file_extension": ".py",
   "mimetype": "text/x-python",
   "name": "python",
   "nbconvert_exporter": "python",
   "pygments_lexer": "ipython3",
   "version": "3.11.9"
  }
 },
 "nbformat": 4,
 "nbformat_minor": 5
}
